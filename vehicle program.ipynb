#Shakerra West
#vehicle program
#description- identifies information about a vehicle such as make and model
#variables: vehtype_i-input for type of vehicle; car_year-year car was made; car_make-the make of the car; car_model-the model of the car
# car_doors-how many doors the car has; car_roof-tells if car has sunroof.


{
 "cells": [
  {
   "cell_type": "code",
   "execution_count": 9,
   "id": "a00236d4",
   "metadata": {},
   "outputs": [
    {
     "name": "stdout",
     "output_type": "stream",
     "text": [
      "Enter the vehicle type (car, boat, truck) :car\n",
      "Enter the year :2010\n",
      "Enter who manufacture :Chrysler\n",
      "Enter the model :Towne & Country\n",
      "Enter the number of doors(2 or 4) :4\n",
      "solid or sun roof :solid\n",
      "\n",
      "Vehicle Type :car\n",
      "\n",
      "Year :2010\n",
      "\n",
      "Make :Chrysler\n",
      "\n",
      "Model :Towne & Country\n",
      "\n",
      "No of doors :4\n",
      "\n",
      "Type of roof :solid\n"
     ]
    }
   ],
   "source": [
    "class Vehicle:\n",
    "    def __init__(self,type):   \n",
    "        self.type=type \n",
    "\n",
    "#new subclass Automobile from vehicle\n",
    "class Automobile(Vehicle):\n",
    "    def __init__(self,type,year,make,model,doors,roof):\n",
    "        super().__init__(type) \n",
    "        self.year=year\n",
    "        self.make=make\n",
    "        self.model=model\n",
    "        self.doors=doors\n",
    "        self.roof=roof\n",
    "\n",
    "vehtype_i=input(\"Enter the vehicle type (car, boat, truck) :\")\n",
    "car_year=input(\"Enter the year :\")\n",
    "car_make=input(\"Enter who manufacture :\")\n",
    "car_model=input(\"Enter the model :\")\n",
    "car_doors=input(\"Enter the number of doors(2 or 4) :\")\n",
    "car_roof=input(\"solid or sun roof :\")\n",
    "A=Automobile(vehtype_i, car_year, car_make, car_model, car_doors, car_roof) \n",
    "\n",
    "#print the deatilstoy\n",
    "print(\"\\nVehicle Type :\"+A.type)\n",
    "print(\"\\nYear :\"+A.year)\n",
    "print(\"\\nMake :\"+A.make)\n",
    "print(\"\\nModel :\"+A.model)\n",
    "print(\"\\nNo of doors :\"+A.doors)\n",
    "print(\"\\nType of roof :\"+A.roof)\n",
    "\n"
   ]
  },
  {
   "cell_type": "code",
   "execution_count": null,
   "id": "a424acf7",
   "metadata": {},
   "outputs": [],
   "source": []
  }
 ],
 "metadata": {
  "kernelspec": {
   "display_name": "Python 3 (ipykernel)",
   "language": "python",
   "name": "python3"
  },
  "language_info": {
   "codemirror_mode": {
    "name": "ipython",
    "version": 3
   },
   "file_extension": ".py",
   "mimetype": "text/x-python",
   "name": "python",
   "nbconvert_exporter": "python",
   "pygments_lexer": "ipython3",
   "version": "3.9.12"
  }
 },
 "nbformat": 4,
 "nbformat_minor": 5
}
